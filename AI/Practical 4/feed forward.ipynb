{
 "cells": [
  {
   "cell_type": "code",
   "execution_count": 1,
   "id": "19a67e2b-528f-495b-8824-a02abdd990d5",
   "metadata": {},
   "outputs": [
    {
     "ename": "ModuleNotFoundError",
     "evalue": "No module named 'numpy'",
     "output_type": "error",
     "traceback": [
      "\u001b[1;31m---------------------------------------------------------------------------\u001b[0m",
      "\u001b[1;31mModuleNotFoundError\u001b[0m                       Traceback (most recent call last)",
      "Cell \u001b[1;32mIn[1], line 1\u001b[0m\n\u001b[1;32m----> 1\u001b[0m \u001b[38;5;28;01mimport\u001b[39;00m \u001b[38;5;21;01mnumpy\u001b[39;00m \u001b[38;5;28;01mas\u001b[39;00m \u001b[38;5;21;01mnp\u001b[39;00m\n\u001b[0;32m      3\u001b[0m \u001b[38;5;28;01mclass\u001b[39;00m \u001b[38;5;21;01mNeuralNetwork\u001b[39;00m():\n\u001b[0;32m      4\u001b[0m     \u001b[38;5;28;01mdef\u001b[39;00m \u001b[38;5;21m__init__\u001b[39m(\u001b[38;5;28mself\u001b[39m):\n",
      "\u001b[1;31mModuleNotFoundError\u001b[0m: No module named 'numpy'"
     ]
    }
   ],
   "source": [
    "import numpy as np\n",
    "\n",
    "class NeuralNetwork():\n",
    "    def __init__(self):\n",
    "        np.random.seed()\n",
    "        self.synaptic_weights = 2 * np.random.random((3,1)) - 1\n",
    "    def sigmoid(self,x):\n",
    "        return 1 / (1 + np.exp(-x))\n",
    "    def sigmoid_derivative(self,x):\n",
    "        return x * (1 - x)\n",
    "    def train(self,training_inputs,training_outputs,training_iterations):\n",
    "        for iteration in range(training_iterations):\n",
    "            output = self.think(training_inputs)\n",
    "            error = training_outputs-output\n",
    "            adjustments = np.dot(training_inputs.T,error * self.sigmoid_derivative(output))\n",
    "            self.synaptic_weights += adjustments\n",
    "    def think(self,inputs):\n",
    "        input=inputs.astype(float)\n",
    "        output=self.sigmoid(np.dot(input,self.synaptic_weights))\n",
    "        return output\n",
    "\n",
    "if __name__ == \"__main__\":\n",
    "    neural_network = NeuralNetwork()\n",
    "    print(\"Beginning randomly generated weights:\")\n",
    "    print(neural_network.synaptic_weights)\n",
    "    training_inputs = np.array([[0,0,1],[1,1,1],[1,0,1],[0,1,1]])\n",
    "    training_outputs = np.array([[0,1,1,0]]).T\n",
    "    neural_network.train(training_inputs,training_outputs,15000)\n",
    "    print(\"Ending weights after training:\")\n",
    "    print(neural_network.synaptic_weights)\n",
    "    user_input_one = str(input(\"User input One:\"))\n",
    "    user_input_two = str(input(\"User input Two:\"))\n",
    "    user_input_three = str(input(\"User input Three:\"))\n",
    "    print(\"Considering new situation:\",user_input_one,user_input_two,user_input_three)\n",
    "    print(\"new output data:\")\n",
    "    print(neural_network.think(np.array([user_input_one,user_input_two,user_input_three])))"
   ]
  },
  {
   "cell_type": "code",
   "execution_count": null,
   "id": "cca55610-0d33-48fe-932e-0c11fd9d6c71",
   "metadata": {},
   "outputs": [],
   "source": []
  }
 ],
 "metadata": {
  "kernelspec": {
   "display_name": "Python 3",
   "language": "python",
   "name": "python3"
  },
  "language_info": {
   "codemirror_mode": {
    "name": "ipython",
    "version": 3
   },
   "file_extension": ".py",
   "mimetype": "text/x-python",
   "name": "python",
   "nbconvert_exporter": "python",
   "pygments_lexer": "ipython3",
   "version": "3.12.7"
  }
 },
 "nbformat": 4,
 "nbformat_minor": 5
}
